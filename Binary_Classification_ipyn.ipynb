{
  "nbformat": 4,
  "nbformat_minor": 0,
  "metadata": {
    "colab": {
      "provenance": [],
      "authorship_tag": "ABX9TyOvVaQFi3iVbQeZxn/wCIZ/",
      "include_colab_link": true
    },
    "kernelspec": {
      "name": "python3",
      "display_name": "Python 3"
    },
    "language_info": {
      "name": "python"
    }
  },
  "cells": [
    {
      "cell_type": "markdown",
      "metadata": {
        "id": "view-in-github",
        "colab_type": "text"
      },
      "source": [
        "<a href=\"https://colab.research.google.com/github/Alirezabln/TensorflowPractice/blob/main/Binary_Classification_ipyn.ipynb\" target=\"_parent\"><img src=\"https://colab.research.google.com/assets/colab-badge.svg\" alt=\"Open In Colab\"/></a>"
      ]
    },
    {
      "cell_type": "code",
      "execution_count": null,
      "metadata": {
        "colab": {
          "base_uri": "https://localhost:8080/"
        },
        "id": "ctwLIgGydASs",
        "outputId": "cb84625f-bcdd-40b9-9abf-1f1714af5bcf"
      },
      "outputs": [
        {
          "output_type": "stream",
          "name": "stdout",
          "text": [
            "Downloading data from https://storage.googleapis.com/tensorflow/tf-keras-datasets/imdb.npz\n",
            "17464789/17464789 [==============================] - 0s 0us/step\n"
          ]
        }
      ],
      "source": [
        "from tensorflow.keras.datasets import imdb\n",
        "(train_data, train_labels), (test_data, test_labels) = imdb.load_data(num_words=10000)"
      ]
    },
    {
      "cell_type": "code",
      "source": [
        "max([max(sequence) for sequence in train_data])"
      ],
      "metadata": {
        "colab": {
          "base_uri": "https://localhost:8080/"
        },
        "id": "Z_UVOdz3gqzk",
        "outputId": "7c349643-c767-4594-bfe8-62b57ab72e1a"
      },
      "execution_count": null,
      "outputs": [
        {
          "output_type": "execute_result",
          "data": {
            "text/plain": [
              "9999"
            ]
          },
          "metadata": {},
          "execution_count": 3
        }
      ]
    },
    {
      "cell_type": "code",
      "source": [
        "word_index = imdb.get_word_index()\n",
        "reserve_word_index = dict(\n",
        "    [(value, key) for (key, value) in word_index.items()])\n",
        "decoded_review = \" \".join(\n",
        "    reserve_word_index.get(i - 3, \"?\") for i in train_data[0])\n",
        "decoded_review"
      ],
      "metadata": {
        "colab": {
          "base_uri": "https://localhost:8080/",
          "height": 140
        },
        "id": "aGk3rP0rwb1-",
        "outputId": "5b68f539-2ea1-4a55-f8b6-91164f184cdd"
      },
      "execution_count": null,
      "outputs": [
        {
          "output_type": "stream",
          "name": "stdout",
          "text": [
            "Downloading data from https://storage.googleapis.com/tensorflow/tf-keras-datasets/imdb_word_index.json\n",
            "1641221/1641221 [==============================] - 0s 0us/step\n"
          ]
        },
        {
          "output_type": "execute_result",
          "data": {
            "text/plain": [
              "\"? this film was just brilliant casting location scenery story direction everyone's really suited the part they played and you could just imagine being there robert ? is an amazing actor and now the same being director ? father came from the same scottish island as myself so i loved the fact there was a real connection with this film the witty remarks throughout the film were great it was just brilliant so much that i bought the film as soon as it was released for ? and would recommend it to everyone to watch and the fly fishing was amazing really cried at the end it was so sad and you know what they say if you cry at a film it must have been good and this definitely was also ? to the two little boy's that played the ? of norman and paul they were just brilliant children are often left out of the ? list i think because the stars that play them all grown up are such a big profile for the whole film but these children are amazing and should be praised for what they have done don't you think the whole story was so lovely because it was true and was someone's life after all that was shared with us all\""
            ],
            "application/vnd.google.colaboratory.intrinsic+json": {
              "type": "string"
            }
          },
          "metadata": {},
          "execution_count": 3
        }
      ]
    },
    {
      "cell_type": "code",
      "source": [
        "import numpy as np\n",
        "def vectorize_sequences(sequences, dimension=10000):\n",
        "  results = np.zeros((len(sequences), dimension))\n",
        "  for i, sequence in enumerate(sequences):\n",
        "    for j in sequence:\n",
        "      results[i, j] = 1\n",
        "  return results\n",
        "\n",
        "x_train = vectorize_sequences(train_data)\n",
        "x_test = vectorize_sequences(test_data)"
      ],
      "metadata": {
        "id": "pWycQzzu7MZI"
      },
      "execution_count": null,
      "outputs": []
    },
    {
      "cell_type": "code",
      "source": [
        "x_train[0]"
      ],
      "metadata": {
        "colab": {
          "base_uri": "https://localhost:8080/"
        },
        "id": "pDNdoA7-B4WB",
        "outputId": "90a58b01-5326-4030-be71-168bdba6ff53"
      },
      "execution_count": null,
      "outputs": [
        {
          "output_type": "execute_result",
          "data": {
            "text/plain": [
              "array([0., 1., 1., ..., 0., 0., 0.])"
            ]
          },
          "metadata": {},
          "execution_count": 3
        }
      ]
    },
    {
      "cell_type": "code",
      "source": [
        "y_train = np.asarray(train_labels).astype(\"float32\")\n",
        "y_test = np.asarray(test_labels).astype(\"float32\")"
      ],
      "metadata": {
        "id": "P9lWMBelCa2w"
      },
      "execution_count": null,
      "outputs": []
    },
    {
      "cell_type": "code",
      "source": [
        "from tensorflow import keras\n",
        "from tensorflow.keras import layers\n",
        "\n",
        "model = keras.Sequential([\n",
        "    layers.Dense(16, activation=\"relu\"),\n",
        "    layers.Dense(16, activation=\"relu\"),\n",
        "    layers.Dense(1, activation=\"sigmoid\")\n",
        "])"
      ],
      "metadata": {
        "id": "5BoNwducQ9xP"
      },
      "execution_count": null,
      "outputs": []
    },
    {
      "cell_type": "code",
      "source": [
        "model.compile(optimizer=\"rmsprop\",\n",
        "              loss=\"binary_crossentropy\",\n",
        "              metrics=[\"accuracy\"])"
      ],
      "metadata": {
        "id": "a8ssbvhhbF7Y"
      },
      "execution_count": null,
      "outputs": []
    },
    {
      "cell_type": "code",
      "source": [
        "x_val = x_train[:10000]\n",
        "partial_x_train = x_train[10000:]\n",
        "y_val = y_train[:10000]\n",
        "partial_y_train = y_train[10000:]"
      ],
      "metadata": {
        "id": "grKdV81vSxlc"
      },
      "execution_count": null,
      "outputs": []
    },
    {
      "cell_type": "code",
      "source": [
        "history = model.fit(partial_x_train,\n",
        "                    partial_y_train,\n",
        "                    epochs=20,\n",
        "                    batch_size=512,\n",
        "                    validation_data=(x_val, y_val))"
      ],
      "metadata": {
        "colab": {
          "base_uri": "https://localhost:8080/"
        },
        "id": "APt6-gC5UH2y",
        "outputId": "0b3b06fb-8aa0-4fc6-89dc-65579eceae14"
      },
      "execution_count": null,
      "outputs": [
        {
          "output_type": "stream",
          "name": "stdout",
          "text": [
            "Epoch 1/20\n",
            "30/30 [==============================] - 3s 64ms/step - loss: 0.5091 - accuracy: 0.7992 - val_loss: 0.4016 - val_accuracy: 0.8494\n",
            "Epoch 2/20\n",
            "30/30 [==============================] - 1s 32ms/step - loss: 0.3115 - accuracy: 0.8935 - val_loss: 0.3050 - val_accuracy: 0.8822\n",
            "Epoch 3/20\n",
            "30/30 [==============================] - 2s 53ms/step - loss: 0.2291 - accuracy: 0.9186 - val_loss: 0.2792 - val_accuracy: 0.8873\n",
            "Epoch 4/20\n",
            "30/30 [==============================] - 2s 52ms/step - loss: 0.1758 - accuracy: 0.9371 - val_loss: 0.2930 - val_accuracy: 0.8795\n",
            "Epoch 5/20\n",
            "30/30 [==============================] - 1s 37ms/step - loss: 0.1445 - accuracy: 0.9505 - val_loss: 0.2899 - val_accuracy: 0.8837\n",
            "Epoch 6/20\n",
            "30/30 [==============================] - 1s 30ms/step - loss: 0.1146 - accuracy: 0.9627 - val_loss: 0.3441 - val_accuracy: 0.8758\n",
            "Epoch 7/20\n",
            "30/30 [==============================] - 1s 31ms/step - loss: 0.0932 - accuracy: 0.9700 - val_loss: 0.3418 - val_accuracy: 0.8810\n",
            "Epoch 8/20\n",
            "30/30 [==============================] - 1s 30ms/step - loss: 0.0788 - accuracy: 0.9758 - val_loss: 0.3950 - val_accuracy: 0.8668\n",
            "Epoch 9/20\n",
            "30/30 [==============================] - 1s 29ms/step - loss: 0.0668 - accuracy: 0.9799 - val_loss: 0.4017 - val_accuracy: 0.8767\n",
            "Epoch 10/20\n",
            "30/30 [==============================] - 1s 29ms/step - loss: 0.0594 - accuracy: 0.9825 - val_loss: 0.4281 - val_accuracy: 0.8739\n",
            "Epoch 11/20\n",
            "30/30 [==============================] - 1s 30ms/step - loss: 0.0475 - accuracy: 0.9862 - val_loss: 0.4583 - val_accuracy: 0.8724\n",
            "Epoch 12/20\n",
            "30/30 [==============================] - 1s 31ms/step - loss: 0.0411 - accuracy: 0.9890 - val_loss: 0.4885 - val_accuracy: 0.8727\n",
            "Epoch 13/20\n",
            "30/30 [==============================] - 1s 30ms/step - loss: 0.0345 - accuracy: 0.9905 - val_loss: 0.5216 - val_accuracy: 0.8661\n",
            "Epoch 14/20\n",
            "30/30 [==============================] - 1s 30ms/step - loss: 0.0277 - accuracy: 0.9928 - val_loss: 0.5522 - val_accuracy: 0.8663\n",
            "Epoch 15/20\n",
            "30/30 [==============================] - 1s 30ms/step - loss: 0.0183 - accuracy: 0.9960 - val_loss: 0.6648 - val_accuracy: 0.8577\n",
            "Epoch 16/20\n",
            "30/30 [==============================] - 1s 36ms/step - loss: 0.0137 - accuracy: 0.9975 - val_loss: 0.7671 - val_accuracy: 0.8467\n",
            "Epoch 17/20\n",
            "30/30 [==============================] - 2s 53ms/step - loss: 0.0206 - accuracy: 0.9936 - val_loss: 0.6309 - val_accuracy: 0.8663\n",
            "Epoch 18/20\n",
            "30/30 [==============================] - 1s 44ms/step - loss: 0.0261 - accuracy: 0.9925 - val_loss: 0.6505 - val_accuracy: 0.8660\n",
            "Epoch 19/20\n",
            "30/30 [==============================] - 1s 39ms/step - loss: 0.0062 - accuracy: 0.9995 - val_loss: 0.6644 - val_accuracy: 0.8678\n",
            "Epoch 20/20\n",
            "30/30 [==============================] - 1s 30ms/step - loss: 0.0203 - accuracy: 0.9946 - val_loss: 0.6926 - val_accuracy: 0.8641\n"
          ]
        }
      ]
    },
    {
      "cell_type": "code",
      "source": [
        "history_dict = history.history\n",
        "history_dict.keys()"
      ],
      "metadata": {
        "colab": {
          "base_uri": "https://localhost:8080/"
        },
        "id": "12kBVcSTWz5s",
        "outputId": "aa0cf15f-871d-40a3-ee76-5b36955bc477"
      },
      "execution_count": null,
      "outputs": [
        {
          "output_type": "execute_result",
          "data": {
            "text/plain": [
              "dict_keys(['loss', 'accuracy', 'val_loss', 'val_accuracy'])"
            ]
          },
          "metadata": {},
          "execution_count": 8
        }
      ]
    },
    {
      "cell_type": "code",
      "source": [
        "import matplotlib.pyplot as plt\n",
        "loss_values = history_dict[\"loss\"]\n",
        "val_loss_values = history_dict[\"val_loss\"]\n",
        "epochs = range(1, len(loss_values) + 1)\n",
        "plt.plot(epochs, loss_values, \"bo\", label=\"Training loss\")\n",
        "plt.plot(epochs, val_loss_values, \"b\", label=\"Validation loss\")\n",
        "plt.title(\"Training and Validation loss\")\n",
        "plt.xlabel(\"Epochs\")\n",
        "plt.ylabel(\"Loss\")\n",
        "plt.legend()\n",
        "plt.show()"
      ],
      "metadata": {
        "colab": {
          "base_uri": "https://localhost:8080/",
          "height": 472
        },
        "id": "0RWLV3KoXuXj",
        "outputId": "0c1f4ac0-9645-42b0-a21c-e96f1d2f80f4"
      },
      "execution_count": null,
      "outputs": [
        {
          "output_type": "display_data",
          "data": {
            "text/plain": [
              "<Figure size 640x480 with 1 Axes>"
            ],
            "image/png": "[encoded data removed]"
          },
          "metadata": {}
        }
      ]
    },
    {
      "cell_type": "code",
      "source": [
        "plt.clf()\n",
        "acc = history_dict[\"accuracy\"]\n",
        "val_acc = history_dict[\"val_accuracy\"]\n",
        "plt.plot(epochs, acc, \"bo\", label=\"Training acc\")\n",
        "plt.plot(epochs, val_acc, \"b\", label=\"Validation acc\")\n",
        "plt.title(\"Training and validation accuracy\")\n",
        "plt.xlabel(\"Epochs\")\n",
        "plt.ylabel(\"Accuracy\")\n",
        "plt.legend()\n",
        "plt.show()"
      ],
      "metadata": {
        "colab": {
          "base_uri": "https://localhost:8080/",
          "height": 472
        },
        "id": "OIyMfXyFaLGB",
        "outputId": "b334af7c-7ece-46ec-b561-a2ebd31bf79f"
      },
      "execution_count": null,
      "outputs": [
        {
          "output_type": "display_data",
          "data": {
            "text/plain": [
              "<Figure size 640x480 with 1 Axes>"
            ],
            "image/png": "[encoded data removed]"
          },
          "metadata": {}
        }
      ]
    },
    {
      "cell_type": "code",
      "source": [
        "from tensorflow import keras\n",
        "from tensorflow.keras import layers\n",
        "model = keras.Sequential([\n",
        "    layers.Dense(16, activation=\"relu\"),\n",
        "    layers.Dense(16, activation=\"relu\"),\n",
        "    layers.Dense(1, activation=\"sigmoid\")\n",
        "])\n",
        "model.compile(optimizer=\"rmsprop\",\n",
        "              loss=\"binary_crossentropy\",\n",
        "              metrics=[\"accuracy\"])\n",
        "model.fit(x_train, y_train, epochs=3, batch_size=512)\n",
        "results = model.evaluate(x_test, y_test)"
      ],
      "metadata": {
        "colab": {
          "base_uri": "https://localhost:8080/"
        },
        "id": "Irx9LQ-TcUqX",
        "outputId": "a1c630e0-643a-4b59-db02-0ba3f31ff300"
      },
      "execution_count": null,
      "outputs": [
        {
          "output_type": "stream",
          "name": "stdout",
          "text": [
            "Epoch 1/3\n",
            "49/49 [==============================] - 2s 22ms/step - loss: 0.4508 - accuracy: 0.8219\n",
            "Epoch 2/3\n",
            "49/49 [==============================] - 1s 22ms/step - loss: 0.2609 - accuracy: 0.9049\n",
            "Epoch 3/3\n",
            "49/49 [==============================] - 1s 22ms/step - loss: 0.2012 - accuracy: 0.9234\n",
            "782/782 [==============================] - 2s 2ms/step - loss: 0.2912 - accuracy: 0.8822\n"
          ]
        }
      ]
    },
    {
      "cell_type": "code",
      "source": [
        "results"
      ],
      "metadata": {
        "colab": {
          "base_uri": "https://localhost:8080/"
        },
        "id": "qtikJUaeemq4",
        "outputId": "1b08a6d1-ebc4-493d-ebf1-cde6635f2fe0"
      },
      "execution_count": null,
      "outputs": [
        {
          "output_type": "execute_result",
          "data": {
            "text/plain": [
              "[0.2805379033088684, 0.8881999850273132]"
            ]
          },
          "metadata": {},
          "execution_count": 13
        }
      ]
    },
    {
      "cell_type": "code",
      "source": [
        "model.predict(x_test)"
      ],
      "metadata": {
        "colab": {
          "base_uri": "https://localhost:8080/"
        },
        "id": "-Rf4kHM2gsnE",
        "outputId": "f235412a-533f-4f46-9fe5-7e90fce4679c"
      },
      "execution_count": null,
      "outputs": [
        {
          "output_type": "stream",
          "name": "stdout",
          "text": [
            "782/782 [==============================] - 3s 3ms/step\n"
          ]
        },
        {
          "output_type": "execute_result",
          "data": {
            "text/plain": [
              "array([[0.11333317],\n",
              "       [0.994238  ],\n",
              "       [0.8074969 ],\n",
              "       ...,\n",
              "       [0.05420717],\n",
              "       [0.0578131 ],\n",
              "       [0.40731156]], dtype=float32)"
            ]
          },
          "metadata": {},
          "execution_count": 12
        }
      ]
    }
  ]
}